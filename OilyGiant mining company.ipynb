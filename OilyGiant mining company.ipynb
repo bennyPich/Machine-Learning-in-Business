{
 "cells": [
  {
   "cell_type": "markdown",
   "metadata": {},
   "source": [
    "# OilyGiant mining company"
   ]
  },
  {
   "cell_type": "markdown",
   "metadata": {},
   "source": [
    "Our task is to find the best place for a new well.\n",
    "Steps to choose the location:\n",
    "- Collect the oil well parameters in the selected region: oil quality and volume of reserves;\n",
    "- Build a model for predicting the volume of reserves in the new wells;\n",
    "- Pick the oil wells with the highest estimated values;\n",
    "- Pick the region with the highest total profit for the selected oil wells."
   ]
  },
  {
   "cell_type": "markdown",
   "metadata": {},
   "source": [
    "Data description\n",
    "Geological exploration data for the three regions are stored in files:\n",
    "- geo_data_0.csv \n",
    "- geo_data_1.csv\n",
    "- geo_data_2.csv \n",
    "- id — unique oil well identifier\n",
    "- f0, f1, f2 — three features of points (their specific meaning is unimportant, but the features themselves are significant)\n",
    "- product — volume of reserves in the oil well (thousand barrels)."
   ]
  },
  {
   "cell_type": "markdown",
   "metadata": {},
   "source": [
    "# 1.Download and prepare the data."
   ]
  },
  {
   "cell_type": "code",
   "execution_count": 1,
   "metadata": {},
   "outputs": [],
   "source": [
    "import pandas as pd\n",
    "import numpy as np\n",
    "from sklearn.model_selection import train_test_split\n",
    "from sklearn.preprocessing import OrdinalEncoder, StandardScaler\n",
    "from sklearn.linear_model import LinearRegression\n",
    "from sklearn.metrics import mean_squared_error"
   ]
  },
  {
   "cell_type": "code",
   "execution_count": 2,
   "metadata": {},
   "outputs": [],
   "source": [
    "# const random_state \n",
    "RANDOM_STATE = 12345\n",
    "\n",
    "# Silence SettingWithCopyWarning \n",
    "pd.options.mode.chained_assignment = None\n"
   ]
  },
  {
   "cell_type": "code",
   "execution_count": 3,
   "metadata": {},
   "outputs": [],
   "source": [
    "#Read csv file\n",
    "region_0 = pd.read_csv('https://code.s3.yandex.net/datasets/geo_data_0.csv') \n",
    "region_1 = pd.read_csv('https://code.s3.yandex.net/datasets/geo_data_1.csv')\n",
    "region_2 = pd.read_csv('https://code.s3.yandex.net/datasets/geo_data_2.csv')\n"
   ]
  },
  {
   "cell_type": "code",
   "execution_count": 4,
   "metadata": {},
   "outputs": [
    {
     "name": "stdout",
     "output_type": "stream",
     "text": [
      "<class 'pandas.core.frame.DataFrame'>\n",
      "RangeIndex: 100000 entries, 0 to 99999\n",
      "Data columns (total 5 columns):\n",
      "id         100000 non-null object\n",
      "f0         100000 non-null float64\n",
      "f1         100000 non-null float64\n",
      "f2         100000 non-null float64\n",
      "product    100000 non-null float64\n",
      "dtypes: float64(4), object(1)\n",
      "memory usage: 3.8+ MB\n"
     ]
    },
    {
     "data": {
      "text/html": [
       "<div>\n",
       "<style scoped>\n",
       "    .dataframe tbody tr th:only-of-type {\n",
       "        vertical-align: middle;\n",
       "    }\n",
       "\n",
       "    .dataframe tbody tr th {\n",
       "        vertical-align: top;\n",
       "    }\n",
       "\n",
       "    .dataframe thead th {\n",
       "        text-align: right;\n",
       "    }\n",
       "</style>\n",
       "<table border=\"1\" class=\"dataframe\">\n",
       "  <thead>\n",
       "    <tr style=\"text-align: right;\">\n",
       "      <th></th>\n",
       "      <th>id</th>\n",
       "      <th>f0</th>\n",
       "      <th>f1</th>\n",
       "      <th>f2</th>\n",
       "      <th>product</th>\n",
       "    </tr>\n",
       "  </thead>\n",
       "  <tbody>\n",
       "    <tr>\n",
       "      <td>25962</td>\n",
       "      <td>xW0nZ</td>\n",
       "      <td>-0.477455</td>\n",
       "      <td>0.537646</td>\n",
       "      <td>0.262794</td>\n",
       "      <td>90.129893</td>\n",
       "    </tr>\n",
       "    <tr>\n",
       "      <td>14530</td>\n",
       "      <td>eb9Um</td>\n",
       "      <td>0.951282</td>\n",
       "      <td>0.401446</td>\n",
       "      <td>3.661015</td>\n",
       "      <td>70.812957</td>\n",
       "    </tr>\n",
       "    <tr>\n",
       "      <td>89403</td>\n",
       "      <td>WuLEU</td>\n",
       "      <td>2.026615</td>\n",
       "      <td>0.361617</td>\n",
       "      <td>0.670020</td>\n",
       "      <td>91.560466</td>\n",
       "    </tr>\n",
       "    <tr>\n",
       "      <td>81444</td>\n",
       "      <td>PqtPv</td>\n",
       "      <td>1.008011</td>\n",
       "      <td>0.229291</td>\n",
       "      <td>0.366191</td>\n",
       "      <td>28.379713</td>\n",
       "    </tr>\n",
       "    <tr>\n",
       "      <td>19308</td>\n",
       "      <td>75RD9</td>\n",
       "      <td>0.887361</td>\n",
       "      <td>-0.694434</td>\n",
       "      <td>1.801716</td>\n",
       "      <td>160.610155</td>\n",
       "    </tr>\n",
       "    <tr>\n",
       "      <td>85777</td>\n",
       "      <td>Ou7un</td>\n",
       "      <td>0.454052</td>\n",
       "      <td>0.865615</td>\n",
       "      <td>8.119271</td>\n",
       "      <td>153.274800</td>\n",
       "    </tr>\n",
       "    <tr>\n",
       "      <td>6314</td>\n",
       "      <td>vI3Iw</td>\n",
       "      <td>1.536540</td>\n",
       "      <td>-0.416363</td>\n",
       "      <td>-1.187327</td>\n",
       "      <td>87.821311</td>\n",
       "    </tr>\n",
       "    <tr>\n",
       "      <td>99733</td>\n",
       "      <td>au949</td>\n",
       "      <td>-0.740456</td>\n",
       "      <td>0.814690</td>\n",
       "      <td>2.818758</td>\n",
       "      <td>14.687599</td>\n",
       "    </tr>\n",
       "    <tr>\n",
       "      <td>8442</td>\n",
       "      <td>6Ldzq</td>\n",
       "      <td>0.811790</td>\n",
       "      <td>-0.599559</td>\n",
       "      <td>-1.426965</td>\n",
       "      <td>136.502024</td>\n",
       "    </tr>\n",
       "    <tr>\n",
       "      <td>68379</td>\n",
       "      <td>EzcgT</td>\n",
       "      <td>0.455865</td>\n",
       "      <td>-0.158673</td>\n",
       "      <td>5.123882</td>\n",
       "      <td>79.797697</td>\n",
       "    </tr>\n",
       "  </tbody>\n",
       "</table>\n",
       "</div>"
      ],
      "text/plain": [
       "          id        f0        f1        f2     product\n",
       "25962  xW0nZ -0.477455  0.537646  0.262794   90.129893\n",
       "14530  eb9Um  0.951282  0.401446  3.661015   70.812957\n",
       "89403  WuLEU  2.026615  0.361617  0.670020   91.560466\n",
       "81444  PqtPv  1.008011  0.229291  0.366191   28.379713\n",
       "19308  75RD9  0.887361 -0.694434  1.801716  160.610155\n",
       "85777  Ou7un  0.454052  0.865615  8.119271  153.274800\n",
       "6314   vI3Iw  1.536540 -0.416363 -1.187327   87.821311\n",
       "99733  au949 -0.740456  0.814690  2.818758   14.687599\n",
       "8442   6Ldzq  0.811790 -0.599559 -1.426965  136.502024\n",
       "68379  EzcgT  0.455865 -0.158673  5.123882   79.797697"
      ]
     },
     "execution_count": 4,
     "metadata": {},
     "output_type": "execute_result"
    }
   ],
   "source": [
    "#General information\n",
    "region_0.info()\n",
    "region_0.sample(10)"
   ]
  },
  {
   "cell_type": "code",
   "execution_count": 5,
   "metadata": {},
   "outputs": [
    {
     "name": "stdout",
     "output_type": "stream",
     "text": [
      "<class 'pandas.core.frame.DataFrame'>\n",
      "RangeIndex: 100000 entries, 0 to 99999\n",
      "Data columns (total 5 columns):\n",
      "id         100000 non-null object\n",
      "f0         100000 non-null float64\n",
      "f1         100000 non-null float64\n",
      "f2         100000 non-null float64\n",
      "product    100000 non-null float64\n",
      "dtypes: float64(4), object(1)\n",
      "memory usage: 3.8+ MB\n"
     ]
    },
    {
     "data": {
      "text/html": [
       "<div>\n",
       "<style scoped>\n",
       "    .dataframe tbody tr th:only-of-type {\n",
       "        vertical-align: middle;\n",
       "    }\n",
       "\n",
       "    .dataframe tbody tr th {\n",
       "        vertical-align: top;\n",
       "    }\n",
       "\n",
       "    .dataframe thead th {\n",
       "        text-align: right;\n",
       "    }\n",
       "</style>\n",
       "<table border=\"1\" class=\"dataframe\">\n",
       "  <thead>\n",
       "    <tr style=\"text-align: right;\">\n",
       "      <th></th>\n",
       "      <th>id</th>\n",
       "      <th>f0</th>\n",
       "      <th>f1</th>\n",
       "      <th>f2</th>\n",
       "      <th>product</th>\n",
       "    </tr>\n",
       "  </thead>\n",
       "  <tbody>\n",
       "    <tr>\n",
       "      <td>19186</td>\n",
       "      <td>iz07W</td>\n",
       "      <td>-4.005106</td>\n",
       "      <td>-11.623063</td>\n",
       "      <td>2.999778</td>\n",
       "      <td>84.038886</td>\n",
       "    </tr>\n",
       "    <tr>\n",
       "      <td>38444</td>\n",
       "      <td>4XoQ4</td>\n",
       "      <td>3.279759</td>\n",
       "      <td>-10.991208</td>\n",
       "      <td>0.994810</td>\n",
       "      <td>30.132364</td>\n",
       "    </tr>\n",
       "    <tr>\n",
       "      <td>14267</td>\n",
       "      <td>rUZdy</td>\n",
       "      <td>14.464563</td>\n",
       "      <td>6.174871</td>\n",
       "      <td>5.004380</td>\n",
       "      <td>134.766305</td>\n",
       "    </tr>\n",
       "    <tr>\n",
       "      <td>12580</td>\n",
       "      <td>zuEQp</td>\n",
       "      <td>9.609117</td>\n",
       "      <td>-0.652356</td>\n",
       "      <td>1.001286</td>\n",
       "      <td>26.953261</td>\n",
       "    </tr>\n",
       "    <tr>\n",
       "      <td>73073</td>\n",
       "      <td>oucbl</td>\n",
       "      <td>-4.787223</td>\n",
       "      <td>-2.604776</td>\n",
       "      <td>3.998551</td>\n",
       "      <td>110.992147</td>\n",
       "    </tr>\n",
       "    <tr>\n",
       "      <td>14842</td>\n",
       "      <td>maQ8B</td>\n",
       "      <td>12.617756</td>\n",
       "      <td>-7.079880</td>\n",
       "      <td>0.002986</td>\n",
       "      <td>0.000000</td>\n",
       "    </tr>\n",
       "    <tr>\n",
       "      <td>57334</td>\n",
       "      <td>Uin2a</td>\n",
       "      <td>-17.966255</td>\n",
       "      <td>0.847609</td>\n",
       "      <td>3.002767</td>\n",
       "      <td>84.038886</td>\n",
       "    </tr>\n",
       "    <tr>\n",
       "      <td>38680</td>\n",
       "      <td>p58yQ</td>\n",
       "      <td>6.140492</td>\n",
       "      <td>-10.764543</td>\n",
       "      <td>-0.000174</td>\n",
       "      <td>0.000000</td>\n",
       "    </tr>\n",
       "    <tr>\n",
       "      <td>2299</td>\n",
       "      <td>Edzw7</td>\n",
       "      <td>12.650460</td>\n",
       "      <td>-7.907149</td>\n",
       "      <td>0.993054</td>\n",
       "      <td>26.953261</td>\n",
       "    </tr>\n",
       "    <tr>\n",
       "      <td>70025</td>\n",
       "      <td>6Ba6z</td>\n",
       "      <td>1.827751</td>\n",
       "      <td>-11.051957</td>\n",
       "      <td>2.995869</td>\n",
       "      <td>84.038886</td>\n",
       "    </tr>\n",
       "  </tbody>\n",
       "</table>\n",
       "</div>"
      ],
      "text/plain": [
       "          id         f0         f1        f2     product\n",
       "19186  iz07W  -4.005106 -11.623063  2.999778   84.038886\n",
       "38444  4XoQ4   3.279759 -10.991208  0.994810   30.132364\n",
       "14267  rUZdy  14.464563   6.174871  5.004380  134.766305\n",
       "12580  zuEQp   9.609117  -0.652356  1.001286   26.953261\n",
       "73073  oucbl  -4.787223  -2.604776  3.998551  110.992147\n",
       "14842  maQ8B  12.617756  -7.079880  0.002986    0.000000\n",
       "57334  Uin2a -17.966255   0.847609  3.002767   84.038886\n",
       "38680  p58yQ   6.140492 -10.764543 -0.000174    0.000000\n",
       "2299   Edzw7  12.650460  -7.907149  0.993054   26.953261\n",
       "70025  6Ba6z   1.827751 -11.051957  2.995869   84.038886"
      ]
     },
     "execution_count": 5,
     "metadata": {},
     "output_type": "execute_result"
    }
   ],
   "source": [
    "#General information\n",
    "region_1.info()\n",
    "region_1.sample(10)"
   ]
  },
  {
   "cell_type": "code",
   "execution_count": 6,
   "metadata": {},
   "outputs": [
    {
     "name": "stdout",
     "output_type": "stream",
     "text": [
      "<class 'pandas.core.frame.DataFrame'>\n",
      "RangeIndex: 100000 entries, 0 to 99999\n",
      "Data columns (total 5 columns):\n",
      "id         100000 non-null object\n",
      "f0         100000 non-null float64\n",
      "f1         100000 non-null float64\n",
      "f2         100000 non-null float64\n",
      "product    100000 non-null float64\n",
      "dtypes: float64(4), object(1)\n",
      "memory usage: 3.8+ MB\n"
     ]
    },
    {
     "data": {
      "text/html": [
       "<div>\n",
       "<style scoped>\n",
       "    .dataframe tbody tr th:only-of-type {\n",
       "        vertical-align: middle;\n",
       "    }\n",
       "\n",
       "    .dataframe tbody tr th {\n",
       "        vertical-align: top;\n",
       "    }\n",
       "\n",
       "    .dataframe thead th {\n",
       "        text-align: right;\n",
       "    }\n",
       "</style>\n",
       "<table border=\"1\" class=\"dataframe\">\n",
       "  <thead>\n",
       "    <tr style=\"text-align: right;\">\n",
       "      <th></th>\n",
       "      <th>id</th>\n",
       "      <th>f0</th>\n",
       "      <th>f1</th>\n",
       "      <th>f2</th>\n",
       "      <th>product</th>\n",
       "    </tr>\n",
       "  </thead>\n",
       "  <tbody>\n",
       "    <tr>\n",
       "      <td>86500</td>\n",
       "      <td>Jeh7X</td>\n",
       "      <td>-0.186684</td>\n",
       "      <td>-1.805224</td>\n",
       "      <td>1.166428</td>\n",
       "      <td>4.620797</td>\n",
       "    </tr>\n",
       "    <tr>\n",
       "      <td>45306</td>\n",
       "      <td>zI2PI</td>\n",
       "      <td>-1.668463</td>\n",
       "      <td>1.321681</td>\n",
       "      <td>10.017476</td>\n",
       "      <td>171.651845</td>\n",
       "    </tr>\n",
       "    <tr>\n",
       "      <td>57322</td>\n",
       "      <td>b95iC</td>\n",
       "      <td>-2.910862</td>\n",
       "      <td>1.701288</td>\n",
       "      <td>7.415548</td>\n",
       "      <td>151.915709</td>\n",
       "    </tr>\n",
       "    <tr>\n",
       "      <td>12196</td>\n",
       "      <td>iyhHi</td>\n",
       "      <td>0.140889</td>\n",
       "      <td>1.938911</td>\n",
       "      <td>-2.197602</td>\n",
       "      <td>18.759872</td>\n",
       "    </tr>\n",
       "    <tr>\n",
       "      <td>35076</td>\n",
       "      <td>ve936</td>\n",
       "      <td>4.117534</td>\n",
       "      <td>2.115825</td>\n",
       "      <td>2.333998</td>\n",
       "      <td>87.591388</td>\n",
       "    </tr>\n",
       "    <tr>\n",
       "      <td>96649</td>\n",
       "      <td>5l7Gj</td>\n",
       "      <td>-0.310101</td>\n",
       "      <td>-1.956450</td>\n",
       "      <td>6.267629</td>\n",
       "      <td>129.129526</td>\n",
       "    </tr>\n",
       "    <tr>\n",
       "      <td>9483</td>\n",
       "      <td>SPPJG</td>\n",
       "      <td>2.641431</td>\n",
       "      <td>-0.523410</td>\n",
       "      <td>10.107448</td>\n",
       "      <td>135.493514</td>\n",
       "    </tr>\n",
       "    <tr>\n",
       "      <td>91306</td>\n",
       "      <td>rYGB5</td>\n",
       "      <td>-1.588520</td>\n",
       "      <td>-0.356861</td>\n",
       "      <td>7.184121</td>\n",
       "      <td>124.579520</td>\n",
       "    </tr>\n",
       "    <tr>\n",
       "      <td>13027</td>\n",
       "      <td>VKLgl</td>\n",
       "      <td>-0.306155</td>\n",
       "      <td>-0.206000</td>\n",
       "      <td>1.954437</td>\n",
       "      <td>5.160975</td>\n",
       "    </tr>\n",
       "    <tr>\n",
       "      <td>17577</td>\n",
       "      <td>h4dY1</td>\n",
       "      <td>-0.761982</td>\n",
       "      <td>0.819385</td>\n",
       "      <td>6.771134</td>\n",
       "      <td>122.388344</td>\n",
       "    </tr>\n",
       "  </tbody>\n",
       "</table>\n",
       "</div>"
      ],
      "text/plain": [
       "          id        f0        f1         f2     product\n",
       "86500  Jeh7X -0.186684 -1.805224   1.166428    4.620797\n",
       "45306  zI2PI -1.668463  1.321681  10.017476  171.651845\n",
       "57322  b95iC -2.910862  1.701288   7.415548  151.915709\n",
       "12196  iyhHi  0.140889  1.938911  -2.197602   18.759872\n",
       "35076  ve936  4.117534  2.115825   2.333998   87.591388\n",
       "96649  5l7Gj -0.310101 -1.956450   6.267629  129.129526\n",
       "9483   SPPJG  2.641431 -0.523410  10.107448  135.493514\n",
       "91306  rYGB5 -1.588520 -0.356861   7.184121  124.579520\n",
       "13027  VKLgl -0.306155 -0.206000   1.954437    5.160975\n",
       "17577  h4dY1 -0.761982  0.819385   6.771134  122.388344"
      ]
     },
     "execution_count": 6,
     "metadata": {},
     "output_type": "execute_result"
    }
   ],
   "source": [
    "#General information\n",
    "region_2.info()\n",
    "region_2.sample(10)"
   ]
  },
  {
   "cell_type": "code",
   "execution_count": 7,
   "metadata": {},
   "outputs": [],
   "source": [
    "# There are id's with more then 1 row\n",
    "# We don't know why and which one of then is correct\n",
    "#we'll delete those id's\n",
    "region_0 = region_0[region_0.groupby(\"id\")[\"id\"].transform(len)< 2]\n",
    "region_1 = region_1[region_1.groupby(\"id\")[\"id\"].transform(len)< 2]\n",
    "region_2 = region_2[region_2.groupby(\"id\")[\"id\"].transform(len)< 2]\n"
   ]
  },
  {
   "cell_type": "code",
   "execution_count": 8,
   "metadata": {},
   "outputs": [
    {
     "data": {
      "text/plain": [
       "0"
      ]
     },
     "execution_count": 8,
     "metadata": {},
     "output_type": "execute_result"
    }
   ],
   "source": [
    "#Check for duplicates\n",
    "region_0.duplicated().sum()"
   ]
  },
  {
   "cell_type": "code",
   "execution_count": 9,
   "metadata": {},
   "outputs": [
    {
     "data": {
      "text/plain": [
       "0"
      ]
     },
     "execution_count": 9,
     "metadata": {},
     "output_type": "execute_result"
    }
   ],
   "source": [
    "#Check for duplicates\n",
    "region_1.duplicated().sum()"
   ]
  },
  {
   "cell_type": "code",
   "execution_count": 10,
   "metadata": {},
   "outputs": [
    {
     "data": {
      "text/plain": [
       "0"
      ]
     },
     "execution_count": 10,
     "metadata": {},
     "output_type": "execute_result"
    }
   ],
   "source": [
    "#Check for duplicates\n",
    "region_2.duplicated().sum()"
   ]
  },
  {
   "cell_type": "code",
   "execution_count": 11,
   "metadata": {},
   "outputs": [],
   "source": [
    "# Drop features that not required\n",
    "region_0.drop(['id'], axis=1, inplace=True)\n",
    "region_1.drop(['id'], axis=1, inplace=True)\n",
    "region_2.drop(['id'], axis=1, inplace=True)"
   ]
  },
  {
   "cell_type": "markdown",
   "metadata": {},
   "source": [
    "## Conclusion"
   ]
  },
  {
   "cell_type": "markdown",
   "metadata": {},
   "source": [
    " - There are no missing values.\n",
    " - There are no duplicates rows.\n",
    " - There are id's with more then 1 row. \n",
    "    region_0 - 10 duplicated rows(20 rows in total)\n",
    "    region_1 - 4 duplicated rows(8 rows in total)\n",
    "    region_2 - 4 duplicated rows(8 rows in total)\n",
    "    We don't know why and which one of then is correct, and they are very few\n",
    "    we have 100,000 rows for each region \n",
    "    we'll delete those id's."
   ]
  },
  {
   "cell_type": "code",
   "execution_count": null,
   "metadata": {},
   "outputs": [],
   "source": []
  },
  {
   "cell_type": "markdown",
   "metadata": {},
   "source": [
    "#  2.Train and test the model for each region"
   ]
  },
  {
   "cell_type": "code",
   "execution_count": 12,
   "metadata": {},
   "outputs": [],
   "source": [
    "def data_split(region):\n",
    "    target = region['product']\n",
    "    features = region.drop(['product'], axis=1)\n",
    "\n",
    "    # Split data into train and validation\n",
    "    features_train, features_valid, target_train, target_valid = train_test_split(\n",
    "        features, target, test_size=0.25, random_state=RANDOM_STATE)\n",
    "    return (features_train,features_valid, target_train, target_valid)"
   ]
  },
  {
   "cell_type": "code",
   "execution_count": 13,
   "metadata": {},
   "outputs": [],
   "source": [
    "\n",
    "def data_scaling(features_train, features_valid):\n",
    "   \n",
    "    # Standardize the numeric features\n",
    "    scaler = StandardScaler()\n",
    "\n",
    "    #numeric fields to scale\n",
    "    numeric = ['f0','f1','f2']\n",
    "\n",
    "    scaler.fit(features_train[numeric])\n",
    "    features_train[numeric] = scaler.transform(features_train[numeric])\n",
    "    features_valid[numeric] = scaler.transform(features_valid[numeric])\n",
    "    return (features_train,features_valid)\n"
   ]
  },
  {
   "cell_type": "code",
   "execution_count": 14,
   "metadata": {},
   "outputs": [],
   "source": [
    "# execute LinearRegression model\n",
    "def Linear_Regression_model(features_train, features_valid, target_train, target_valid):\n",
    "    model = LinearRegression()\n",
    "    model.fit(features_train, target_train)\n",
    "    predicted_valid = model.predict(features_valid)\n",
    "    # Calculate predicted_valid nean value\n",
    "    predicted_valid_mean = predicted_valid.mean()\n",
    "    # Calculate mse value\n",
    "    mse = mean_squared_error(target_valid, predicted_valid)\n",
    "    # Calculate rmse\n",
    "    rmse = mse ** 0.5\n",
    "    return rmse, predicted_valid_mean, predicted_valid"
   ]
  },
  {
   "cell_type": "code",
   "execution_count": 15,
   "metadata": {},
   "outputs": [
    {
     "name": "stdout",
     "output_type": "stream",
     "text": [
      "region_0\n",
      "RMSE= 37.716904960382735\n",
      "mean= 92.42384109947358\n"
     ]
    }
   ],
   "source": [
    "# Execute for region_0\n",
    "features_train_0,features_valid_0, target_train_0, target_valid_0 = data_split(region_0)\n",
    "features_train_0,features_valid_0 = data_scaling(features_train_0, features_valid_0)\n",
    "rmse_region_0, predicted_valid_mean_region_0, predicted_valid_0 = \\\n",
    "                                Linear_Regression_model(features_train_0, features_valid_0, target_train_0, target_valid_0)\n",
    "print('region_0')\n",
    "print('RMSE=', rmse_region_0)\n",
    "print('mean=', predicted_valid_mean_region_0)"
   ]
  },
  {
   "cell_type": "code",
   "execution_count": 16,
   "metadata": {},
   "outputs": [
    {
     "name": "stdout",
     "output_type": "stream",
     "text": [
      "region_1\n",
      "RMSE= 0.8914901390348529\n",
      "mean= 68.98311857983121\n"
     ]
    }
   ],
   "source": [
    "# Execute for region_1\n",
    "features_train_1,features_valid_1, target_train_1, target_valid_1 = data_split(region_1)\n",
    "features_train_1,features_valid_1 = data_scaling(features_train_1, features_valid_1)\n",
    "rmse_region_1, predicted_valid_mean_region_1,predicted_valid_1 = \\\n",
    "                                Linear_Regression_model(features_train_1, features_valid_1, target_train_1, target_valid_1)\n",
    "print('region_1')\n",
    "print('RMSE=', rmse_region_1)\n",
    "print('mean=', predicted_valid_mean_region_1)"
   ]
  },
  {
   "cell_type": "code",
   "execution_count": 17,
   "metadata": {},
   "outputs": [
    {
     "name": "stdout",
     "output_type": "stream",
     "text": [
      "region_2\n",
      "RMSE= 39.975543264382345\n",
      "mean= 95.11622302076478\n"
     ]
    }
   ],
   "source": [
    "features_train_2,features_valid_2, target_train_2, target_valid_2 = data_split(region_2)\n",
    "features_train_2,features_valid_2 = data_scaling(features_train_2, features_valid_2)\n",
    "rmse_region_2, predicted_valid_mean_region_2, predicted_valid_2 = \\\n",
    "                                Linear_Regression_model(features_train_2, features_valid_2, target_train_2, target_valid_2)\n",
    "print('region_2')\n",
    "print('RMSE=', rmse_region_2)\n",
    "print('mean=', predicted_valid_mean_region_2)"
   ]
  },
  {
   "cell_type": "code",
   "execution_count": 18,
   "metadata": {},
   "outputs": [
    {
     "data": {
      "text/html": [
       "<div>\n",
       "<style scoped>\n",
       "    .dataframe tbody tr th:only-of-type {\n",
       "        vertical-align: middle;\n",
       "    }\n",
       "\n",
       "    .dataframe tbody tr th {\n",
       "        vertical-align: top;\n",
       "    }\n",
       "\n",
       "    .dataframe thead th {\n",
       "        text-align: right;\n",
       "    }\n",
       "</style>\n",
       "<table border=\"1\" class=\"dataframe\">\n",
       "  <thead>\n",
       "    <tr style=\"text-align: right;\">\n",
       "      <th></th>\n",
       "      <th>RMSE</th>\n",
       "      <th>mean</th>\n",
       "    </tr>\n",
       "  </thead>\n",
       "  <tbody>\n",
       "    <tr>\n",
       "      <td>0</td>\n",
       "      <td>37.716905</td>\n",
       "      <td>92.423841</td>\n",
       "    </tr>\n",
       "    <tr>\n",
       "      <td>1</td>\n",
       "      <td>0.891490</td>\n",
       "      <td>68.983119</td>\n",
       "    </tr>\n",
       "    <tr>\n",
       "      <td>2</td>\n",
       "      <td>39.975543</td>\n",
       "      <td>95.116223</td>\n",
       "    </tr>\n",
       "  </tbody>\n",
       "</table>\n",
       "</div>"
      ],
      "text/plain": [
       "        RMSE       mean\n",
       "0  37.716905  92.423841\n",
       "1   0.891490  68.983119\n",
       "2  39.975543  95.116223"
      ]
     },
     "execution_count": 18,
     "metadata": {},
     "output_type": "execute_result"
    }
   ],
   "source": [
    "# initialize list of lists\n",
    "data = [[rmse_region_0,predicted_valid_mean_region_0 ],\n",
    "        [rmse_region_1,predicted_valid_mean_region_1 ],\n",
    "        [rmse_region_2,predicted_valid_mean_region_2 ]]\n",
    " \n",
    "# Create the pandas DataFrame\n",
    "result = pd.DataFrame(data, columns = ['RMSE', 'mean'])\n",
    "\n",
    "# print dataframe.\n",
    "result"
   ]
  },
  {
   "cell_type": "markdown",
   "metadata": {},
   "source": [
    "##  Conclusion\n",
    "\n",
    "- region_1 has the lowest RMSE \n",
    "- RMSE= 0.8914901390348529\n",
    "- mean= 68.98311857983121\n",
    "- RMSE is lower than the mean so we have a good model \n"
   ]
  },
  {
   "cell_type": "code",
   "execution_count": null,
   "metadata": {},
   "outputs": [],
   "source": []
  },
  {
   "cell_type": "markdown",
   "metadata": {},
   "source": [
    "# 3.Prepare for profit calculation"
   ]
  },
  {
   "cell_type": "code",
   "execution_count": 19,
   "metadata": {},
   "outputs": [],
   "source": [
    "budget_dev_oil_well = 500000\n",
    "barrel_revenue = 4.5\n",
    "one_unit_product_revenue = 4500\n"
   ]
  },
  {
   "cell_type": "code",
   "execution_count": 20,
   "metadata": {},
   "outputs": [
    {
     "name": "stdout",
     "output_type": "stream",
     "text": [
      "The volume of reserves sufficient for developing a new well without losses is  111.11111111111111\n"
     ]
    }
   ],
   "source": [
    "#The volume of reserves sufficient for developing a new well without losses\n",
    "new_will_min_volume = budget_dev_oil_well / one_unit_product_revenue\n",
    "print('The volume of reserves sufficient for developing a new well without losses is ',new_will_min_volume)"
   ]
  },
  {
   "cell_type": "code",
   "execution_count": 21,
   "metadata": {},
   "outputs": [
    {
     "name": "stdout",
     "output_type": "stream",
     "text": [
      "region_0 mean 92.49916597893447\n",
      "region_1 mean 68.82414772665173\n",
      "region_2 mean 94.99876686768079\n"
     ]
    }
   ],
   "source": [
    "region_0_mean = region_0['product'].mean()\n",
    "region_1_mean = region_1['product'].mean()\n",
    "region_2_mean = region_2['product'].mean()\n",
    "print('region_0 mean', region_0_mean)\n",
    "print('region_1 mean', region_1_mean)\n",
    "print('region_2 mean', region_2_mean)"
   ]
  },
  {
   "cell_type": "markdown",
   "metadata": {},
   "source": [
    "## conclusion\n",
    "\n",
    "- The volume of reserves sufficient for developing a new well without losses is  111.11\n",
    "- region_0 mean valume = 92.49916597893447\n",
    "- region_1 mean valume = 68.82414772665173\n",
    "- region_2 mean valume = 94.99876686768079\n",
    "\n",
    "- As we can see the neam value for all regons is lower then the min volume of reserves sufficient for developing a new well    without losses.<br><br>\n",
    "<b>conclusion</b> - We need to pick the best oil wells in each region"
   ]
  },
  {
   "cell_type": "code",
   "execution_count": null,
   "metadata": {},
   "outputs": [],
   "source": []
  },
  {
   "cell_type": "markdown",
   "metadata": {},
   "source": [
    "# 4.Write a function to calculate profit from a set of selected oil wells and model predictions"
   ]
  },
  {
   "cell_type": "code",
   "execution_count": null,
   "metadata": {},
   "outputs": [],
   "source": []
  },
  {
   "cell_type": "code",
   "execution_count": 22,
   "metadata": {},
   "outputs": [],
   "source": [
    "# Calculate profit for a region\n",
    "def region_profit(predicted, target):\n",
    "    #Create series from predicted_valid \n",
    "    predicted_series = pd.Series(predicted, name='predicted',index=target.index) \\\n",
    "                                                                    .sort_values(ascending=False)\n",
    "    # 200 wells with the highest values of predictions\n",
    "    highest_predict_wells = target[predicted_series[:200].index]\n",
    "\n",
    "    # Sum 200 wells with the highest values of predictions\n",
    "    sum_highest_predict_wells = highest_predict_wells.sum()\n",
    "    revenue = sum_highest_predict_wells *one_unit_product_revenue\n",
    "    profit = revenue - (200 * budget_dev_oil_well)\n",
    "\n",
    "    return profit"
   ]
  },
  {
   "cell_type": "code",
   "execution_count": 23,
   "metadata": {},
   "outputs": [
    {
     "name": "stdout",
     "output_type": "stream",
     "text": [
      "region 0 profit= 31360260.5665586\n",
      "region 1 profit= 24150866.966815114\n",
      "region 2 profit= 24659457.920122653\n"
     ]
    }
   ],
   "source": [
    "region_0_profit =region_profit(predicted_valid_0, target_valid_0)\n",
    "region_1_profit =region_profit(predicted_valid_1, target_valid_1)\n",
    "region_2_profit =region_profit(predicted_valid_2, target_valid_2)\n",
    "\n",
    "print('region 0 profit=', region_0_profit)\n",
    "print('region 1 profit=', region_1_profit)\n",
    "print('region 2 profit=', region_2_profit)"
   ]
  },
  {
   "cell_type": "markdown",
   "metadata": {},
   "source": [
    "## Conclution \n",
    "\n",
    "<b>region 0 as the highest profit </b>"
   ]
  },
  {
   "cell_type": "markdown",
   "metadata": {},
   "source": [
    "# 5.Calculate risks and profit for each region"
   ]
  },
  {
   "cell_type": "code",
   "execution_count": 24,
   "metadata": {},
   "outputs": [],
   "source": [
    "\n",
    "def bootstrap_calc(predicted,target):\n",
    "     #Create series from predicted_valid \n",
    "    predicted = pd.Series(predicted, name='predicted',index=target.index)\n",
    "\n",
    "    state = np.random.RandomState(12345)    \n",
    "    values = []\n",
    "    #Number of samples\n",
    "    num_samples = 1000\n",
    "    for i in range(num_samples): \n",
    "        #Create sample of 500 points\n",
    "        target_subsample = target.sample(n=500, replace=True, random_state=state)\n",
    "        #Get the predicted values of the target points\n",
    "        probs_subsample = predicted[target_subsample.index]\n",
    "        #Calculte profit\n",
    "        profit_subsample = region_profit(probs_subsample, target_subsample)\n",
    "        #Summerize subsumple profit\n",
    "        values.append(profit_subsample)\n",
    "\n",
    "    values = pd.Series(values)\n",
    "    lower =values.quantile(0.025)\n",
    "    upper =values.quantile(0.975)\n",
    "\n",
    "    mean = values.mean()\n",
    "    \n",
    "    return values, mean, upper, lower\n",
    "    "
   ]
  },
  {
   "cell_type": "code",
   "execution_count": 25,
   "metadata": {},
   "outputs": [
    {
     "data": {
      "image/png": "[encoded data removed]",
      "text/plain": [
       "<Figure size 432x288 with 1 Axes>"
      ]
     },
     "metadata": {
      "needs_background": "light"
     },
     "output_type": "display_data"
    }
   ],
   "source": [
    "values_region_0, mean_region_0, upper_region_0, lower_region_0 =bootstrap_calc(predicted_valid_0, target_valid_0)\n",
    "values_region_0.plot(kind='hist',title='profit');"
   ]
  },
  {
   "cell_type": "code",
   "execution_count": 27,
   "metadata": {},
   "outputs": [
    {
     "name": "stdout",
     "output_type": "stream",
     "text": [
      "region 0\n",
      "mean : 6329210.984851676\n",
      "95% confidence interval: 549998.1921787062 , 12849098.546222579\n",
      "risk of losses is:2.00%\n"
     ]
    }
   ],
   "source": [
    "print('region 0')\n",
    "print('mean : {}'.format(mean_region_0))\n",
    "print('95% confidence interval: {} , {}'.format(lower_region_0, upper_region_0))\n",
    "risk_probability_region_0 = (values_region_0 <0).sum() / values_region_0.count() \n",
    "print('risk of losses is:{:,.2%}'.format(risk_probability_region_0))"
   ]
  },
  {
   "cell_type": "code",
   "execution_count": null,
   "metadata": {},
   "outputs": [],
   "source": []
  },
  {
   "cell_type": "code",
   "execution_count": 28,
   "metadata": {},
   "outputs": [
    {
     "data": {
      "text/plain": [
       "<matplotlib.axes._subplots.AxesSubplot at 0x7f677b7cdb50>"
      ]
     },
     "execution_count": 28,
     "metadata": {},
     "output_type": "execute_result"
    },
    {
     "data": {
      "image/png": "[encoded data removed]",
      "text/plain": [
       "<Figure size 432x288 with 1 Axes>"
      ]
     },
     "metadata": {
      "needs_background": "light"
     },
     "output_type": "display_data"
    }
   ],
   "source": [
    "values_region_1, mean_region_1,upper_region_1,lower_region_1 =bootstrap_calc(predicted_valid_1, target_valid_1)\n",
    "\n",
    "values_region_1.plot(kind='hist',title='profit')"
   ]
  },
  {
   "cell_type": "code",
   "execution_count": 29,
   "metadata": {},
   "outputs": [
    {
     "name": "stdout",
     "output_type": "stream",
     "text": [
      "region 1\n",
      "mean : 6836507.782372232\n",
      "95% confidence interval: 1761041.827247675 , 12000844.859101081\n",
      "risk of losses is:0.70%\n"
     ]
    }
   ],
   "source": [
    "print('region 1')\n",
    "print('mean : {}'.format(mean_region_1))\n",
    "print('95% confidence interval: {} , {}'.format(lower_region_1, upper_region_1))\n",
    "risk_probability_region_1 = (values_region_1 <0).sum() / values_region_1.count() \n",
    "print('risk of losses is:{:,.2%}'.format(risk_probability_region_1))"
   ]
  },
  {
   "cell_type": "code",
   "execution_count": 30,
   "metadata": {},
   "outputs": [
    {
     "data": {
      "image/png": "[encoded data removed]",
      "text/plain": [
       "<Figure size 432x288 with 1 Axes>"
      ]
     },
     "metadata": {
      "needs_background": "light"
     },
     "output_type": "display_data"
    }
   ],
   "source": [
    "values_region_2, mean_region_2, upper_region_2, lower_region_2 =bootstrap_calc(predicted_valid_2, target_valid_2)\n",
    "values_region_2.plot(kind='hist',title='profit');"
   ]
  },
  {
   "cell_type": "code",
   "execution_count": 31,
   "metadata": {},
   "outputs": [
    {
     "name": "stdout",
     "output_type": "stream",
     "text": [
      "region 2\n",
      "mean : 5290364.667416241\n",
      "95% confidence interval: -635691.3093939188 , 11644733.641825799\n",
      "risk of losses is:4.40%\n"
     ]
    }
   ],
   "source": [
    "print('region 2')\n",
    "print('mean : {}'.format(mean_region_2))\n",
    "print('95% confidence interval: {} , {}'.format(lower_region_2, upper_region_2))\n",
    "risk_probability_region_2 = (values_region_2 <0).sum() / values_region_2.count() \n",
    "print('risk of losses is:{:,.2%}'.format(risk_probability_region_2))"
   ]
  },
  {
   "cell_type": "code",
   "execution_count": 32,
   "metadata": {},
   "outputs": [
    {
     "data": {
      "text/html": [
       "<div>\n",
       "<style scoped>\n",
       "    .dataframe tbody tr th:only-of-type {\n",
       "        vertical-align: middle;\n",
       "    }\n",
       "\n",
       "    .dataframe tbody tr th {\n",
       "        vertical-align: top;\n",
       "    }\n",
       "\n",
       "    .dataframe thead th {\n",
       "        text-align: right;\n",
       "    }\n",
       "</style>\n",
       "<table border=\"1\" class=\"dataframe\">\n",
       "  <thead>\n",
       "    <tr style=\"text-align: right;\">\n",
       "      <th></th>\n",
       "      <th>mean</th>\n",
       "      <th>lower</th>\n",
       "      <th>upper</th>\n",
       "      <th>risk</th>\n",
       "    </tr>\n",
       "  </thead>\n",
       "  <tbody>\n",
       "    <tr>\n",
       "      <td>0</td>\n",
       "      <td>6329210</td>\n",
       "      <td>549998</td>\n",
       "      <td>12849098</td>\n",
       "      <td>2.0</td>\n",
       "    </tr>\n",
       "    <tr>\n",
       "      <td>1</td>\n",
       "      <td>6836507</td>\n",
       "      <td>1761041</td>\n",
       "      <td>12000844</td>\n",
       "      <td>0.7</td>\n",
       "    </tr>\n",
       "    <tr>\n",
       "      <td>2</td>\n",
       "      <td>5290364</td>\n",
       "      <td>-635691</td>\n",
       "      <td>11644733</td>\n",
       "      <td>4.4</td>\n",
       "    </tr>\n",
       "  </tbody>\n",
       "</table>\n",
       "</div>"
      ],
      "text/plain": [
       "      mean    lower     upper  risk\n",
       "0  6329210   549998  12849098   2.0\n",
       "1  6836507  1761041  12000844   0.7\n",
       "2  5290364  -635691  11644733   4.4"
      ]
     },
     "execution_count": 32,
     "metadata": {},
     "output_type": "execute_result"
    }
   ],
   "source": [
    "# initialize list of lists\n",
    "data = [[mean_region_0,lower_region_0,upper_region_0,risk_probability_region_0 *100 ],\n",
    "        [mean_region_1,lower_region_1,upper_region_1,risk_probability_region_1 *100 ],\n",
    "        [mean_region_2,lower_region_2,upper_region_2,risk_probability_region_2 *100 ]]\n",
    " \n",
    "# Create the pandas DataFrame\n",
    "result = pd.DataFrame(data, columns = ['mean', 'lower','upper','risk'])\n",
    "result['mean'] = result['mean'].astype('int64')\n",
    "result['lower'] = result['lower'].astype('int64') \n",
    "result['upper'] = result['upper'].astype('int64') \n",
    "# print dataframe.\n",
    "result"
   ]
  },
  {
   "cell_type": "markdown",
   "metadata": {},
   "source": [
    "## Conclusion\n",
    "\n",
    "- region 1 has the hightest mean value \n",
    "- region 1 confidence interval is the best one. has  the highest value in  'lower'  and almost the highest value in 'upper'\n",
    "- region 1 has 0.7% of risk!!!\n",
    "- <b> The selected region for development of oil wells is region 1</b>"
   ]
  },
  {
   "cell_type": "code",
   "execution_count": null,
   "metadata": {},
   "outputs": [],
   "source": []
  }
 ],
 "metadata": {
  "ExecuteTimeLog": [
   {
    "duration": 1345,
    "start_time": "2021-10-11T10:08:40.950Z"
   },
   {
    "duration": 3,
    "start_time": "2021-10-11T10:08:44.070Z"
   },
   {
    "duration": 449,
    "start_time": "2021-10-11T10:08:45.991Z"
   },
   {
    "duration": 38,
    "start_time": "2021-10-11T10:09:11.917Z"
   },
   {
    "duration": 443,
    "start_time": "2021-10-11T10:10:56.451Z"
   },
   {
    "duration": 27,
    "start_time": "2021-10-11T10:10:58.927Z"
   },
   {
    "duration": 28,
    "start_time": "2021-10-11T10:11:13.408Z"
   },
   {
    "duration": 26,
    "start_time": "2021-10-11T10:11:24.224Z"
   },
   {
    "duration": 69,
    "start_time": "2021-10-11T10:15:46.574Z"
   },
   {
    "duration": 65,
    "start_time": "2021-10-11T10:15:48.229Z"
   },
   {
    "duration": 67,
    "start_time": "2021-10-11T10:15:49.666Z"
   },
   {
    "duration": 80,
    "start_time": "2021-10-11T10:29:18.800Z"
   },
   {
    "duration": 88,
    "start_time": "2021-10-11T10:30:06.198Z"
   },
   {
    "duration": 80,
    "start_time": "2021-10-11T10:30:16.745Z"
   },
   {
    "duration": 7128,
    "start_time": "2021-10-11T10:31:13.364Z"
   },
   {
    "duration": 6049,
    "start_time": "2021-10-11T10:31:46.439Z"
   },
   {
    "duration": 74,
    "start_time": "2021-10-11T10:33:59.120Z"
   },
   {
    "duration": 82,
    "start_time": "2021-10-11T10:34:52.170Z"
   },
   {
    "duration": 109,
    "start_time": "2021-10-11T10:36:19.521Z"
   },
   {
    "duration": 69,
    "start_time": "2021-10-11T10:36:24.969Z"
   },
   {
    "duration": 67,
    "start_time": "2021-10-11T10:36:32.256Z"
   },
   {
    "duration": 75,
    "start_time": "2021-10-11T10:40:43.345Z"
   },
   {
    "duration": 84,
    "start_time": "2021-10-11T10:40:59.982Z"
   },
   {
    "duration": 146,
    "start_time": "2021-10-11T10:41:11.180Z"
   },
   {
    "duration": 157,
    "start_time": "2021-10-11T10:41:29.596Z"
   },
   {
    "duration": 65,
    "start_time": "2021-10-11T10:41:50.991Z"
   },
   {
    "duration": 62,
    "start_time": "2021-10-11T10:41:55.596Z"
   },
   {
    "duration": 64,
    "start_time": "2021-10-11T10:45:44.146Z"
   },
   {
    "duration": 72,
    "start_time": "2021-10-11T10:45:52.250Z"
   },
   {
    "duration": 65,
    "start_time": "2021-10-11T10:46:07.255Z"
   },
   {
    "duration": 310,
    "start_time": "2021-10-11T11:05:49.843Z"
   },
   {
    "duration": 5,
    "start_time": "2021-10-11T11:06:31.521Z"
   },
   {
    "duration": 802,
    "start_time": "2021-10-11T11:07:14.942Z"
   },
   {
    "duration": 18,
    "start_time": "2021-10-11T11:07:24.738Z"
   },
   {
    "duration": 361,
    "start_time": "2021-10-11T11:19:37.422Z"
   },
   {
    "duration": 32,
    "start_time": "2021-10-11T11:20:06.550Z"
   },
   {
    "duration": 4,
    "start_time": "2021-10-11T11:25:50.786Z"
   },
   {
    "duration": 13,
    "start_time": "2021-10-11T11:25:50.792Z"
   },
   {
    "duration": 499,
    "start_time": "2021-10-11T11:25:50.809Z"
   },
   {
    "duration": 28,
    "start_time": "2021-10-11T11:25:51.311Z"
   },
   {
    "duration": 40,
    "start_time": "2021-10-11T11:25:51.342Z"
   },
   {
    "duration": 27,
    "start_time": "2021-10-11T11:25:51.385Z"
   },
   {
    "duration": 101,
    "start_time": "2021-10-11T11:25:51.415Z"
   },
   {
    "duration": 94,
    "start_time": "2021-10-11T11:25:51.518Z"
   },
   {
    "duration": 86,
    "start_time": "2021-10-11T11:25:51.615Z"
   },
   {
    "duration": 86,
    "start_time": "2021-10-11T11:25:51.703Z"
   },
   {
    "duration": 71,
    "start_time": "2021-10-11T11:25:51.792Z"
   },
   {
    "duration": 68,
    "start_time": "2021-10-11T11:25:51.866Z"
   },
   {
    "duration": 33,
    "start_time": "2021-10-11T11:26:31.460Z"
   },
   {
    "duration": 80,
    "start_time": "2021-10-11T11:44:03.386Z"
   },
   {
    "duration": 80,
    "start_time": "2021-10-11T11:44:24.877Z"
   },
   {
    "duration": 34,
    "start_time": "2021-10-11T11:48:26.446Z"
   },
   {
    "duration": 92,
    "start_time": "2021-10-11T11:48:30.498Z"
   },
   {
    "duration": 76,
    "start_time": "2021-10-11T11:48:44.675Z"
   },
   {
    "duration": 4,
    "start_time": "2021-10-11T12:02:08.302Z"
   },
   {
    "duration": 6,
    "start_time": "2021-10-11T12:02:08.309Z"
   },
   {
    "duration": 455,
    "start_time": "2021-10-11T12:02:08.318Z"
   },
   {
    "duration": 28,
    "start_time": "2021-10-11T12:02:08.775Z"
   },
   {
    "duration": 26,
    "start_time": "2021-10-11T12:02:08.806Z"
   },
   {
    "duration": 52,
    "start_time": "2021-10-11T12:02:08.834Z"
   },
   {
    "duration": 37792,
    "start_time": "2021-10-11T12:02:24.730Z"
   },
   {
    "duration": 79,
    "start_time": "2021-10-11T12:03:26.506Z"
   },
   {
    "duration": 38759,
    "start_time": "2021-10-11T12:03:42.158Z"
   },
   {
    "duration": 86,
    "start_time": "2021-10-11T12:04:42.132Z"
   },
   {
    "duration": 4,
    "start_time": "2021-10-11T12:17:14.888Z"
   },
   {
    "duration": 7,
    "start_time": "2021-10-11T12:17:14.895Z"
   },
   {
    "duration": 467,
    "start_time": "2021-10-11T12:17:14.904Z"
   },
   {
    "duration": 28,
    "start_time": "2021-10-11T12:17:15.374Z"
   },
   {
    "duration": 28,
    "start_time": "2021-10-11T12:17:15.404Z"
   },
   {
    "duration": 31,
    "start_time": "2021-10-11T12:17:15.462Z"
   },
   {
    "duration": 25542,
    "start_time": "2021-10-11T12:17:46.092Z"
   },
   {
    "duration": 4,
    "start_time": "2021-10-11T12:22:35.200Z"
   },
   {
    "duration": 8,
    "start_time": "2021-10-11T12:22:35.207Z"
   },
   {
    "duration": 456,
    "start_time": "2021-10-11T12:22:35.218Z"
   },
   {
    "duration": 27,
    "start_time": "2021-10-11T12:22:35.677Z"
   },
   {
    "duration": 29,
    "start_time": "2021-10-11T12:22:35.706Z"
   },
   {
    "duration": 31,
    "start_time": "2021-10-11T12:22:35.764Z"
   },
   {
    "duration": 88,
    "start_time": "2021-10-11T12:22:46.186Z"
   },
   {
    "duration": 107,
    "start_time": "2021-10-11T12:38:42.659Z"
   },
   {
    "duration": 853,
    "start_time": "2021-10-11T12:39:06.306Z"
   },
   {
    "duration": 79,
    "start_time": "2021-10-11T12:39:56.683Z"
   },
   {
    "duration": 84,
    "start_time": "2021-10-11T12:40:04.691Z"
   },
   {
    "duration": 298,
    "start_time": "2021-10-11T12:41:08.963Z"
   },
   {
    "duration": 308,
    "start_time": "2021-10-11T12:41:24.133Z"
   },
   {
    "duration": 550,
    "start_time": "2021-10-11T12:41:35.255Z"
   },
   {
    "duration": 188,
    "start_time": "2021-10-11T12:41:51.034Z"
   },
   {
    "duration": 1563,
    "start_time": "2021-10-11T12:42:38.381Z"
   },
   {
    "duration": 509,
    "start_time": "2021-10-11T12:46:15.841Z"
   },
   {
    "duration": 480,
    "start_time": "2021-10-11T12:47:07.396Z"
   },
   {
    "duration": 711,
    "start_time": "2021-10-11T12:47:15.722Z"
   },
   {
    "duration": 498,
    "start_time": "2021-10-11T12:47:28.987Z"
   },
   {
    "duration": 528,
    "start_time": "2021-10-11T12:47:49.322Z"
   },
   {
    "duration": 169,
    "start_time": "2021-10-11T12:48:17.823Z"
   },
   {
    "duration": 196,
    "start_time": "2021-10-11T12:48:21.103Z"
   },
   {
    "duration": 573,
    "start_time": "2021-10-11T12:48:33.241Z"
   },
   {
    "duration": 197,
    "start_time": "2021-10-11T12:48:48.151Z"
   },
   {
    "duration": 545,
    "start_time": "2021-10-11T12:49:21.665Z"
   },
   {
    "duration": 191,
    "start_time": "2021-10-11T12:49:28.899Z"
   },
   {
    "duration": 177,
    "start_time": "2021-10-11T12:49:57.703Z"
   },
   {
    "duration": 455,
    "start_time": "2021-10-11T12:50:45.546Z"
   },
   {
    "duration": 71,
    "start_time": "2021-10-11T12:51:25.380Z"
   },
   {
    "duration": 113595,
    "start_time": "2021-10-11T12:52:18.951Z"
   },
   {
    "duration": 68,
    "start_time": "2021-10-11T12:55:27.946Z"
   },
   {
    "duration": 27,
    "start_time": "2021-10-11T12:55:39.439Z"
   },
   {
    "duration": 27,
    "start_time": "2021-10-11T12:55:47.633Z"
   },
   {
    "duration": 29,
    "start_time": "2021-10-11T12:55:51.693Z"
   },
   {
    "duration": 973,
    "start_time": "2021-10-11T18:44:23.604Z"
   },
   {
    "duration": 3,
    "start_time": "2021-10-11T19:22:43.013Z"
   },
   {
    "duration": 7,
    "start_time": "2021-10-11T19:22:43.018Z"
   },
   {
    "duration": 411,
    "start_time": "2021-10-11T19:22:43.027Z"
   },
   {
    "duration": 24,
    "start_time": "2021-10-11T19:22:43.440Z"
   },
   {
    "duration": 19,
    "start_time": "2021-10-11T19:22:43.465Z"
   },
   {
    "duration": 19,
    "start_time": "2021-10-11T19:22:43.485Z"
   },
   {
    "duration": 2,
    "start_time": "2021-10-11T19:22:43.506Z"
   },
   {
    "duration": 95,
    "start_time": "2021-10-11T19:22:43.510Z"
   },
   {
    "duration": 18961,
    "start_time": "2021-10-11T19:22:43.608Z"
   },
   {
    "duration": 37,
    "start_time": "2021-10-11T19:23:02.571Z"
   },
   {
    "duration": 56,
    "start_time": "2021-10-11T19:23:02.610Z"
   },
   {
    "duration": 39,
    "start_time": "2021-10-11T19:23:02.668Z"
   },
   {
    "duration": 41,
    "start_time": "2021-10-11T19:23:02.708Z"
   },
   {
    "duration": 49,
    "start_time": "2021-10-11T19:23:02.751Z"
   },
   {
    "duration": 10,
    "start_time": "2021-10-11T19:23:02.802Z"
   },
   {
    "duration": 336,
    "start_time": "2021-10-11T19:23:02.814Z"
   },
   {
    "duration": 14,
    "start_time": "2021-10-11T19:29:18.177Z"
   },
   {
    "duration": 5,
    "start_time": "2021-10-11T19:32:29.942Z"
   },
   {
    "duration": 218,
    "start_time": "2021-10-11T19:32:35.614Z"
   },
   {
    "duration": 3,
    "start_time": "2021-10-11T19:32:52.447Z"
   },
   {
    "duration": 5,
    "start_time": "2021-10-11T19:32:52.452Z"
   },
   {
    "duration": 394,
    "start_time": "2021-10-11T19:32:52.459Z"
   },
   {
    "duration": 19,
    "start_time": "2021-10-11T19:32:52.855Z"
   },
   {
    "duration": 19,
    "start_time": "2021-10-11T19:32:52.875Z"
   },
   {
    "duration": 17,
    "start_time": "2021-10-11T19:32:52.896Z"
   },
   {
    "duration": 89,
    "start_time": "2021-10-11T19:32:52.915Z"
   },
   {
    "duration": 19379,
    "start_time": "2021-10-11T19:32:53.006Z"
   },
   {
    "duration": 40,
    "start_time": "2021-10-11T19:33:12.387Z"
   },
   {
    "duration": 51,
    "start_time": "2021-10-11T19:33:12.429Z"
   },
   {
    "duration": 42,
    "start_time": "2021-10-11T19:33:12.482Z"
   },
   {
    "duration": 24,
    "start_time": "2021-10-11T19:33:12.526Z"
   },
   {
    "duration": 18,
    "start_time": "2021-10-11T19:33:12.551Z"
   },
   {
    "duration": 19,
    "start_time": "2021-10-11T19:33:12.570Z"
   },
   {
    "duration": 11,
    "start_time": "2021-10-11T19:33:12.590Z"
   },
   {
    "duration": 278,
    "start_time": "2021-10-11T19:33:12.603Z"
   },
   {
    "duration": 3,
    "start_time": "2021-10-11T19:34:04.048Z"
   },
   {
    "duration": 12,
    "start_time": "2021-10-11T19:34:09.043Z"
   },
   {
    "duration": 4,
    "start_time": "2021-10-11T19:34:19.364Z"
   },
   {
    "duration": 5,
    "start_time": "2021-10-11T19:34:38.320Z"
   },
   {
    "duration": 12,
    "start_time": "2021-10-11T19:35:10.962Z"
   },
   {
    "duration": 5,
    "start_time": "2021-10-11T19:35:13.724Z"
   },
   {
    "duration": 3,
    "start_time": "2021-10-11T19:35:15.480Z"
   },
   {
    "duration": 1115,
    "start_time": "2021-10-12T06:03:34.295Z"
   },
   {
    "duration": 2,
    "start_time": "2021-10-12T06:03:35.412Z"
   },
   {
    "duration": 368,
    "start_time": "2021-10-12T06:03:35.416Z"
   },
   {
    "duration": 24,
    "start_time": "2021-10-12T06:03:35.786Z"
   },
   {
    "duration": 34,
    "start_time": "2021-10-12T06:03:35.812Z"
   },
   {
    "duration": 18,
    "start_time": "2021-10-12T06:03:35.847Z"
   },
   {
    "duration": 51,
    "start_time": "2021-10-12T06:03:35.866Z"
   },
   {
    "duration": 18285,
    "start_time": "2021-10-12T06:03:35.919Z"
   },
   {
    "duration": 41,
    "start_time": "2021-10-12T06:03:54.206Z"
   },
   {
    "duration": 32,
    "start_time": "2021-10-12T06:03:54.249Z"
   },
   {
    "duration": 33,
    "start_time": "2021-10-12T06:03:54.282Z"
   },
   {
    "duration": 4,
    "start_time": "2021-10-12T06:03:54.317Z"
   },
   {
    "duration": 17,
    "start_time": "2021-10-12T06:03:54.345Z"
   },
   {
    "duration": 15,
    "start_time": "2021-10-12T06:03:54.363Z"
   },
   {
    "duration": 9,
    "start_time": "2021-10-12T06:03:54.380Z"
   },
   {
    "duration": 65,
    "start_time": "2021-10-12T06:03:54.391Z"
   },
   {
    "duration": 88,
    "start_time": "2021-10-12T06:03:54.458Z"
   },
   {
    "duration": 5,
    "start_time": "2021-10-12T06:03:54.549Z"
   },
   {
    "duration": 14,
    "start_time": "2021-10-12T06:19:09.555Z"
   },
   {
    "duration": 312,
    "start_time": "2021-10-12T06:44:55.473Z"
   },
   {
    "duration": 9,
    "start_time": "2021-10-12T06:46:01.235Z"
   },
   {
    "duration": 4,
    "start_time": "2021-10-12T06:46:15.352Z"
   },
   {
    "duration": 4,
    "start_time": "2021-10-12T06:46:29.511Z"
   },
   {
    "duration": 4,
    "start_time": "2021-10-12T06:46:50.444Z"
   },
   {
    "duration": 8,
    "start_time": "2021-10-12T06:55:17.444Z"
   },
   {
    "duration": 3,
    "start_time": "2021-10-12T07:20:47.802Z"
   },
   {
    "duration": 3,
    "start_time": "2021-10-12T07:26:40.043Z"
   },
   {
    "duration": 4,
    "start_time": "2021-10-12T07:26:41.404Z"
   },
   {
    "duration": 3,
    "start_time": "2021-10-12T07:26:43.106Z"
   },
   {
    "duration": 35,
    "start_time": "2021-10-12T07:26:46.831Z"
   },
   {
    "duration": 536,
    "start_time": "2021-10-12T07:27:05.941Z"
   },
   {
    "duration": 253,
    "start_time": "2021-10-12T07:27:37.875Z"
   },
   {
    "duration": 3,
    "start_time": "2021-10-12T07:27:59.815Z"
   },
   {
    "duration": 5,
    "start_time": "2021-10-12T07:27:59.821Z"
   },
   {
    "duration": 397,
    "start_time": "2021-10-12T07:27:59.828Z"
   },
   {
    "duration": 24,
    "start_time": "2021-10-12T07:28:00.227Z"
   },
   {
    "duration": 18,
    "start_time": "2021-10-12T07:28:00.253Z"
   },
   {
    "duration": 19,
    "start_time": "2021-10-12T07:28:00.272Z"
   },
   {
    "duration": 87,
    "start_time": "2021-10-12T07:28:00.292Z"
   },
   {
    "duration": 25420,
    "start_time": "2021-10-12T07:28:00.380Z"
   },
   {
    "duration": -1031,
    "start_time": "2021-10-12T07:28:26.834Z"
   },
   {
    "duration": -1033,
    "start_time": "2021-10-12T07:28:26.837Z"
   },
   {
    "duration": -1035,
    "start_time": "2021-10-12T07:28:26.840Z"
   },
   {
    "duration": -1037,
    "start_time": "2021-10-12T07:28:26.843Z"
   },
   {
    "duration": -1038,
    "start_time": "2021-10-12T07:28:26.845Z"
   },
   {
    "duration": -1041,
    "start_time": "2021-10-12T07:28:26.849Z"
   },
   {
    "duration": -1043,
    "start_time": "2021-10-12T07:28:26.852Z"
   },
   {
    "duration": -1045,
    "start_time": "2021-10-12T07:28:26.854Z"
   },
   {
    "duration": -1052,
    "start_time": "2021-10-12T07:28:26.862Z"
   },
   {
    "duration": -1054,
    "start_time": "2021-10-12T07:28:26.865Z"
   },
   {
    "duration": -1056,
    "start_time": "2021-10-12T07:28:26.868Z"
   },
   {
    "duration": -1057,
    "start_time": "2021-10-12T07:28:26.870Z"
   },
   {
    "duration": -1058,
    "start_time": "2021-10-12T07:28:26.872Z"
   },
   {
    "duration": -1156,
    "start_time": "2021-10-12T07:28:26.971Z"
   },
   {
    "duration": 3,
    "start_time": "2021-10-12T07:28:43.002Z"
   },
   {
    "duration": 18,
    "start_time": "2021-10-12T07:28:43.007Z"
   },
   {
    "duration": 381,
    "start_time": "2021-10-12T07:28:43.027Z"
   },
   {
    "duration": 17,
    "start_time": "2021-10-12T07:28:43.410Z"
   },
   {
    "duration": 29,
    "start_time": "2021-10-12T07:28:43.429Z"
   },
   {
    "duration": 31,
    "start_time": "2021-10-12T07:28:43.460Z"
   },
   {
    "duration": 63,
    "start_time": "2021-10-12T07:28:43.492Z"
   },
   {
    "duration": 55513,
    "start_time": "2021-10-12T07:28:43.557Z"
   },
   {
    "duration": 37,
    "start_time": "2021-10-12T07:29:39.073Z"
   },
   {
    "duration": 55,
    "start_time": "2021-10-12T07:29:39.112Z"
   },
   {
    "duration": 35,
    "start_time": "2021-10-12T07:29:39.168Z"
   },
   {
    "duration": 14,
    "start_time": "2021-10-12T07:29:39.205Z"
   },
   {
    "duration": 35,
    "start_time": "2021-10-12T07:29:39.221Z"
   },
   {
    "duration": 4,
    "start_time": "2021-10-12T07:29:39.258Z"
   },
   {
    "duration": 16,
    "start_time": "2021-10-12T07:29:39.263Z"
   },
   {
    "duration": 78,
    "start_time": "2021-10-12T07:29:39.280Z"
   },
   {
    "duration": 3,
    "start_time": "2021-10-12T07:29:39.444Z"
   },
   {
    "duration": 8,
    "start_time": "2021-10-12T07:29:39.448Z"
   },
   {
    "duration": 5,
    "start_time": "2021-10-12T07:29:39.457Z"
   },
   {
    "duration": 89,
    "start_time": "2021-10-12T07:29:39.464Z"
   },
   {
    "duration": 192,
    "start_time": "2021-10-12T07:29:39.555Z"
   },
   {
    "duration": 122,
    "start_time": "2021-10-12T07:29:39.751Z"
   },
   {
    "duration": 33,
    "start_time": "2021-10-12T07:32:35.231Z"
   },
   {
    "duration": 32,
    "start_time": "2021-10-12T07:32:36.406Z"
   },
   {
    "duration": 33,
    "start_time": "2021-10-12T07:32:37.508Z"
   },
   {
    "duration": 32,
    "start_time": "2021-10-12T07:33:40.575Z"
   },
   {
    "duration": 32,
    "start_time": "2021-10-12T07:35:13.133Z"
   },
   {
    "duration": 33,
    "start_time": "2021-10-12T07:35:15.561Z"
   },
   {
    "duration": 33,
    "start_time": "2021-10-12T07:35:19.282Z"
   },
   {
    "duration": 4,
    "start_time": "2021-10-12T07:55:20.606Z"
   },
   {
    "duration": 3,
    "start_time": "2021-10-12T07:56:00.947Z"
   },
   {
    "duration": 3,
    "start_time": "2021-10-12T09:44:19.740Z"
   },
   {
    "duration": 217,
    "start_time": "2021-10-12T10:29:09.799Z"
   },
   {
    "duration": 3,
    "start_time": "2021-10-12T10:29:13.108Z"
   },
   {
    "duration": 4,
    "start_time": "2021-10-12T10:29:14.538Z"
   },
   {
    "duration": 285,
    "start_time": "2021-10-12T10:31:32.617Z"
   },
   {
    "duration": 17,
    "start_time": "2021-10-12T10:31:44.081Z"
   },
   {
    "duration": 18,
    "start_time": "2021-10-12T10:32:00.691Z"
   },
   {
    "duration": 17,
    "start_time": "2021-10-12T10:32:10.535Z"
   },
   {
    "duration": 12,
    "start_time": "2021-10-12T10:32:22.053Z"
   },
   {
    "duration": 18,
    "start_time": "2021-10-12T10:32:25.916Z"
   },
   {
    "duration": 3,
    "start_time": "2021-10-12T10:37:35.289Z"
   },
   {
    "duration": 3,
    "start_time": "2021-10-12T10:37:38.036Z"
   },
   {
    "duration": 8,
    "start_time": "2021-10-12T10:40:44.839Z"
   },
   {
    "duration": 3,
    "start_time": "2021-10-12T12:31:19.371Z"
   },
   {
    "duration": 9,
    "start_time": "2021-10-12T12:31:19.376Z"
   },
   {
    "duration": 386,
    "start_time": "2021-10-12T12:31:19.388Z"
   },
   {
    "duration": 18,
    "start_time": "2021-10-12T12:31:19.776Z"
   },
   {
    "duration": 17,
    "start_time": "2021-10-12T12:31:19.795Z"
   },
   {
    "duration": 41,
    "start_time": "2021-10-12T12:31:19.814Z"
   },
   {
    "duration": 46,
    "start_time": "2021-10-12T12:31:19.857Z"
   },
   {
    "duration": 54911,
    "start_time": "2021-10-12T12:31:19.905Z"
   },
   {
    "duration": 47,
    "start_time": "2021-10-12T12:32:14.819Z"
   },
   {
    "duration": 36,
    "start_time": "2021-10-12T12:32:14.868Z"
   },
   {
    "duration": 52,
    "start_time": "2021-10-12T12:32:14.906Z"
   },
   {
    "duration": 11,
    "start_time": "2021-10-12T12:32:14.960Z"
   },
   {
    "duration": 14,
    "start_time": "2021-10-12T12:32:14.972Z"
   },
   {
    "duration": 10,
    "start_time": "2021-10-12T12:32:14.987Z"
   },
   {
    "duration": 20,
    "start_time": "2021-10-12T12:32:14.998Z"
   },
   {
    "duration": 9,
    "start_time": "2021-10-12T12:32:15.020Z"
   },
   {
    "duration": 14,
    "start_time": "2021-10-12T12:32:15.031Z"
   },
   {
    "duration": 13,
    "start_time": "2021-10-12T12:32:15.047Z"
   },
   {
    "duration": 87,
    "start_time": "2021-10-12T12:32:15.062Z"
   },
   {
    "duration": 206,
    "start_time": "2021-10-12T12:32:15.152Z"
   },
   {
    "duration": 201,
    "start_time": "2021-10-12T12:32:15.361Z"
   },
   {
    "duration": 3,
    "start_time": "2021-10-12T12:32:15.565Z"
   },
   {
    "duration": 106,
    "start_time": "2021-10-12T12:32:15.645Z"
   },
   {
    "duration": 25,
    "start_time": "2021-10-12T12:32:15.753Z"
   },
   {
    "duration": 3,
    "start_time": "2021-10-12T12:34:03.067Z"
   },
   {
    "duration": 37,
    "start_time": "2021-10-12T12:34:05.748Z"
   },
   {
    "duration": 33,
    "start_time": "2021-10-12T12:34:07.692Z"
   },
   {
    "duration": 32,
    "start_time": "2021-10-12T12:34:09.365Z"
   },
   {
    "duration": 5,
    "start_time": "2021-10-12T12:34:19.233Z"
   },
   {
    "duration": 5,
    "start_time": "2021-10-12T12:34:41.792Z"
   },
   {
    "duration": 13,
    "start_time": "2021-10-12T12:35:42.176Z"
   },
   {
    "duration": 15,
    "start_time": "2021-10-12T12:35:51.790Z"
   },
   {
    "duration": 5,
    "start_time": "2021-10-12T12:36:11.763Z"
   },
   {
    "duration": 3,
    "start_time": "2021-10-12T12:56:53.925Z"
   },
   {
    "duration": 5,
    "start_time": "2021-10-12T12:56:58.712Z"
   },
   {
    "duration": 6,
    "start_time": "2021-10-12T12:57:54.328Z"
   },
   {
    "duration": 5,
    "start_time": "2021-10-12T12:58:25.609Z"
   },
   {
    "duration": 216,
    "start_time": "2021-10-12T12:58:54.430Z"
   },
   {
    "duration": 9,
    "start_time": "2021-10-12T12:59:00.404Z"
   },
   {
    "duration": 8,
    "start_time": "2021-10-12T12:59:11.814Z"
   },
   {
    "duration": 9,
    "start_time": "2021-10-12T12:59:52.762Z"
   },
   {
    "duration": 78,
    "start_time": "2021-10-12T13:00:03.468Z"
   },
   {
    "duration": 12,
    "start_time": "2021-10-12T13:00:09.886Z"
   },
   {
    "duration": 8,
    "start_time": "2021-10-12T13:06:39.242Z"
   },
   {
    "duration": 9,
    "start_time": "2021-10-12T13:06:49.184Z"
   },
   {
    "duration": 8,
    "start_time": "2021-10-12T13:07:07.854Z"
   },
   {
    "duration": 8,
    "start_time": "2021-10-12T13:07:23.587Z"
   },
   {
    "duration": 9,
    "start_time": "2021-10-12T13:07:40.830Z"
   },
   {
    "duration": 10,
    "start_time": "2021-10-12T13:08:43.200Z"
   },
   {
    "duration": 454,
    "start_time": "2021-10-12T18:10:03.481Z"
   },
   {
    "duration": 1421,
    "start_time": "2021-10-12T18:10:10.153Z"
   },
   {
    "duration": 5,
    "start_time": "2021-10-12T18:10:11.577Z"
   },
   {
    "duration": 504,
    "start_time": "2021-10-12T18:10:11.586Z"
   },
   {
    "duration": 40,
    "start_time": "2021-10-12T18:10:12.094Z"
   },
   {
    "duration": 44,
    "start_time": "2021-10-12T18:10:12.136Z"
   },
   {
    "duration": 28,
    "start_time": "2021-10-12T18:10:12.182Z"
   },
   {
    "duration": 112,
    "start_time": "2021-10-12T18:10:12.212Z"
   },
   {
    "duration": 110691,
    "start_time": "2021-10-12T18:10:12.328Z"
   },
   {
    "duration": 77,
    "start_time": "2021-10-12T18:12:03.022Z"
   },
   {
    "duration": 67,
    "start_time": "2021-10-12T18:12:03.102Z"
   },
   {
    "duration": 63,
    "start_time": "2021-10-12T18:12:03.171Z"
   },
   {
    "duration": 28,
    "start_time": "2021-10-12T18:12:03.236Z"
   },
   {
    "duration": 14,
    "start_time": "2021-10-12T18:12:03.267Z"
   },
   {
    "duration": 19,
    "start_time": "2021-10-12T18:12:03.284Z"
   },
   {
    "duration": 6,
    "start_time": "2021-10-12T18:12:03.305Z"
   },
   {
    "duration": 9,
    "start_time": "2021-10-12T18:12:03.313Z"
   },
   {
    "duration": 6,
    "start_time": "2021-10-12T18:12:03.324Z"
   },
   {
    "duration": 29,
    "start_time": "2021-10-12T18:12:03.332Z"
   },
   {
    "duration": 100,
    "start_time": "2021-10-12T18:12:03.363Z"
   },
   {
    "duration": 46,
    "start_time": "2021-10-12T18:12:03.558Z"
   },
   {
    "duration": 139,
    "start_time": "2021-10-12T18:12:03.660Z"
   },
   {
    "duration": 5,
    "start_time": "2021-10-12T18:12:03.859Z"
   },
   {
    "duration": 6,
    "start_time": "2021-10-12T18:12:03.957Z"
   },
   {
    "duration": 22,
    "start_time": "2021-10-12T18:12:03.966Z"
   },
   {
    "duration": 14,
    "start_time": "2021-10-12T18:12:03.990Z"
   },
   {
    "duration": 9,
    "start_time": "2021-10-12T18:12:04.006Z"
   },
   {
    "duration": 7,
    "start_time": "2021-10-12T18:13:28.852Z"
   },
   {
    "duration": 14,
    "start_time": "2021-10-12T18:21:55.837Z"
   },
   {
    "duration": 513,
    "start_time": "2021-10-12T18:40:07.288Z"
   },
   {
    "duration": 6,
    "start_time": "2021-10-12T18:40:19.029Z"
   },
   {
    "duration": 657,
    "start_time": "2021-10-12T18:40:21.482Z"
   },
   {
    "duration": 27,
    "start_time": "2021-10-12T18:40:33.083Z"
   },
   {
    "duration": 6,
    "start_time": "2021-10-13T08:10:22.046Z"
   },
   {
    "duration": 384,
    "start_time": "2021-10-13T08:10:24.703Z"
   },
   {
    "duration": 1363,
    "start_time": "2021-10-13T08:10:32.663Z"
   },
   {
    "duration": 3,
    "start_time": "2021-10-13T08:10:34.030Z"
   },
   {
    "duration": 454,
    "start_time": "2021-10-13T08:10:34.036Z"
   },
   {
    "duration": 37,
    "start_time": "2021-10-13T08:10:34.492Z"
   },
   {
    "duration": 46,
    "start_time": "2021-10-13T08:10:34.531Z"
   },
   {
    "duration": 27,
    "start_time": "2021-10-13T08:10:34.579Z"
   },
   {
    "duration": 105,
    "start_time": "2021-10-13T08:10:34.608Z"
   },
   {
    "duration": 104951,
    "start_time": "2021-10-13T08:10:34.717Z"
   },
   {
    "duration": 64,
    "start_time": "2021-10-13T08:12:19.671Z"
   },
   {
    "duration": 77,
    "start_time": "2021-10-13T08:12:19.738Z"
   },
   {
    "duration": 90,
    "start_time": "2021-10-13T08:12:19.817Z"
   },
   {
    "duration": 30,
    "start_time": "2021-10-13T08:12:19.910Z"
   },
   {
    "duration": 21,
    "start_time": "2021-10-13T08:12:19.943Z"
   },
   {
    "duration": 35,
    "start_time": "2021-10-13T08:12:19.968Z"
   },
   {
    "duration": 13,
    "start_time": "2021-10-13T08:12:20.006Z"
   },
   {
    "duration": 10,
    "start_time": "2021-10-13T08:12:20.023Z"
   },
   {
    "duration": 29,
    "start_time": "2021-10-13T08:12:20.043Z"
   },
   {
    "duration": 24,
    "start_time": "2021-10-13T08:12:20.079Z"
   },
   {
    "duration": 163,
    "start_time": "2021-10-13T08:12:20.106Z"
   },
   {
    "duration": 144,
    "start_time": "2021-10-13T08:12:20.274Z"
   },
   {
    "duration": 139,
    "start_time": "2021-10-13T08:12:20.459Z"
   },
   {
    "duration": 78,
    "start_time": "2021-10-13T08:12:20.681Z"
   },
   {
    "duration": 12,
    "start_time": "2021-10-13T08:12:20.764Z"
   },
   {
    "duration": 19,
    "start_time": "2021-10-13T08:12:20.779Z"
   },
   {
    "duration": 9,
    "start_time": "2021-10-13T08:12:20.801Z"
   },
   {
    "duration": 713,
    "start_time": "2021-10-13T08:12:20.813Z"
   },
   {
    "duration": 5,
    "start_time": "2021-10-13T08:14:01.585Z"
   },
   {
    "duration": 28,
    "start_time": "2021-10-13T08:14:03.168Z"
   },
   {
    "duration": 6,
    "start_time": "2021-10-13T08:20:30.711Z"
   },
   {
    "duration": 10,
    "start_time": "2021-10-13T08:20:35.118Z"
   },
   {
    "duration": 6,
    "start_time": "2021-10-13T08:20:39.916Z"
   },
   {
    "duration": 6,
    "start_time": "2021-10-13T08:21:27.452Z"
   },
   {
    "duration": 9,
    "start_time": "2021-10-13T08:21:28.753Z"
   },
   {
    "duration": 5,
    "start_time": "2021-10-13T08:21:29.878Z"
   },
   {
    "duration": 6,
    "start_time": "2021-10-13T08:21:41.887Z"
   },
   {
    "duration": 684,
    "start_time": "2021-10-13T08:21:44.447Z"
   },
   {
    "duration": 6,
    "start_time": "2021-10-13T08:23:00.575Z"
   },
   {
    "duration": 1247,
    "start_time": "2021-10-13T08:23:02.375Z"
   },
   {
    "duration": 6,
    "start_time": "2021-10-13T08:25:53.866Z"
   },
   {
    "duration": 644,
    "start_time": "2021-10-13T08:25:55.859Z"
   },
   {
    "duration": 6,
    "start_time": "2021-10-13T08:26:18.786Z"
   },
   {
    "duration": 664,
    "start_time": "2021-10-13T08:26:20.355Z"
   },
   {
    "duration": 6,
    "start_time": "2021-10-13T08:27:26.173Z"
   },
   {
    "duration": 6236,
    "start_time": "2021-10-13T08:27:28.963Z"
   },
   {
    "duration": 7,
    "start_time": "2021-10-13T08:28:05.702Z"
   },
   {
    "duration": 4239,
    "start_time": "2021-10-13T08:28:07.882Z"
   },
   {
    "duration": 8,
    "start_time": "2021-10-13T08:28:12.123Z"
   },
   {
    "duration": 371,
    "start_time": "2021-10-13T08:28:28.143Z"
   },
   {
    "duration": 263,
    "start_time": "2021-10-13T08:28:59.822Z"
   },
   {
    "duration": 7,
    "start_time": "2021-10-13T09:00:09.675Z"
   },
   {
    "duration": 1440,
    "start_time": "2021-10-13T09:00:12.193Z"
   },
   {
    "duration": 318,
    "start_time": "2021-10-13T09:01:20.196Z"
   },
   {
    "duration": 6,
    "start_time": "2021-10-13T09:03:16.647Z"
   },
   {
    "duration": 7,
    "start_time": "2021-10-13T09:03:55.822Z"
   },
   {
    "duration": 1035,
    "start_time": "2021-10-13T09:04:03.447Z"
   },
   {
    "duration": 7,
    "start_time": "2021-10-13T09:10:23.034Z"
   },
   {
    "duration": 954,
    "start_time": "2021-10-13T09:10:25.035Z"
   },
   {
    "duration": 7,
    "start_time": "2021-10-13T09:11:57.550Z"
   },
   {
    "duration": 726,
    "start_time": "2021-10-13T09:11:59.182Z"
   },
   {
    "duration": 6,
    "start_time": "2021-10-13T09:15:25.239Z"
   },
   {
    "duration": 4225,
    "start_time": "2021-10-13T09:15:28.632Z"
   },
   {
    "duration": 264,
    "start_time": "2021-10-13T09:16:31.456Z"
   },
   {
    "duration": 6,
    "start_time": "2021-10-13T09:18:59.283Z"
   },
   {
    "duration": 6,
    "start_time": "2021-10-13T09:19:43.908Z"
   },
   {
    "duration": 4147,
    "start_time": "2021-10-13T09:19:45.866Z"
   },
   {
    "duration": 297,
    "start_time": "2021-10-13T09:19:52.515Z"
   },
   {
    "duration": 4965,
    "start_time": "2021-10-13T09:21:07.651Z"
   },
   {
    "duration": 261,
    "start_time": "2021-10-13T09:21:14.875Z"
   },
   {
    "duration": 4620,
    "start_time": "2021-10-13T09:21:55.643Z"
   },
   {
    "duration": 4667,
    "start_time": "2021-10-13T09:22:06.507Z"
   },
   {
    "duration": 7,
    "start_time": "2021-10-13T10:35:51.259Z"
   },
   {
    "duration": 4492,
    "start_time": "2021-10-13T10:35:52.997Z"
   },
   {
    "duration": 4682,
    "start_time": "2021-10-13T10:37:00.217Z"
   },
   {
    "duration": 4,
    "start_time": "2021-10-13T10:38:18.394Z"
   },
   {
    "duration": 4,
    "start_time": "2021-10-13T10:46:20.889Z"
   },
   {
    "duration": 4,
    "start_time": "2021-10-13T10:48:15.162Z"
   },
   {
    "duration": 5158,
    "start_time": "2021-10-13T10:48:51.942Z"
   },
   {
    "duration": 4803,
    "start_time": "2021-10-13T10:49:12.013Z"
   },
   {
    "duration": 5,
    "start_time": "2021-10-13T10:49:16.819Z"
   },
   {
    "duration": 9,
    "start_time": "2021-10-13T10:51:03.323Z"
   },
   {
    "duration": 9,
    "start_time": "2021-10-13T10:51:14.630Z"
   },
   {
    "duration": 9,
    "start_time": "2021-10-13T10:51:18.164Z"
   },
   {
    "duration": 9,
    "start_time": "2021-10-13T10:51:23.320Z"
   },
   {
    "duration": 170,
    "start_time": "2021-10-13T10:57:30.840Z"
   },
   {
    "duration": 8,
    "start_time": "2021-10-13T10:57:40.360Z"
   },
   {
    "duration": 316,
    "start_time": "2021-10-13T10:57:46.327Z"
   },
   {
    "duration": 328,
    "start_time": "2021-10-13T10:57:51.106Z"
   },
   {
    "duration": 8,
    "start_time": "2021-10-13T10:58:03.190Z"
   },
   {
    "duration": 325,
    "start_time": "2021-10-13T11:02:23.659Z"
   },
   {
    "duration": 6,
    "start_time": "2021-10-13T11:10:57.270Z"
   },
   {
    "duration": 8,
    "start_time": "2021-10-13T11:11:15.460Z"
   },
   {
    "duration": 5,
    "start_time": "2021-10-13T11:12:23.885Z"
   },
   {
    "duration": 6,
    "start_time": "2021-10-13T11:12:29.044Z"
   },
   {
    "duration": 7,
    "start_time": "2021-10-13T11:12:42.293Z"
   },
   {
    "duration": 8,
    "start_time": "2021-10-13T11:13:02.658Z"
   },
   {
    "duration": 6,
    "start_time": "2021-10-13T11:13:44.338Z"
   },
   {
    "duration": 7,
    "start_time": "2021-10-13T11:14:01.143Z"
   },
   {
    "duration": 5,
    "start_time": "2021-10-13T11:16:53.757Z"
   },
   {
    "duration": 7,
    "start_time": "2021-10-13T11:16:56.465Z"
   },
   {
    "duration": 7,
    "start_time": "2021-10-13T11:17:19.513Z"
   },
   {
    "duration": 6,
    "start_time": "2021-10-13T11:19:49.012Z"
   },
   {
    "duration": 6,
    "start_time": "2021-10-13T11:19:58.285Z"
   },
   {
    "duration": 6,
    "start_time": "2021-10-13T11:20:34.188Z"
   },
   {
    "duration": 6,
    "start_time": "2021-10-13T11:20:46.783Z"
   },
   {
    "duration": 5,
    "start_time": "2021-10-13T11:20:48.574Z"
   },
   {
    "duration": 9,
    "start_time": "2021-10-13T11:20:57.545Z"
   },
   {
    "duration": 7,
    "start_time": "2021-10-13T11:21:35.005Z"
   },
   {
    "duration": 339,
    "start_time": "2021-10-13T11:21:41.150Z"
   },
   {
    "duration": 4466,
    "start_time": "2021-10-13T11:22:00.551Z"
   },
   {
    "duration": 7,
    "start_time": "2021-10-13T11:22:10.617Z"
   },
   {
    "duration": 4542,
    "start_time": "2021-10-13T11:22:16.871Z"
   },
   {
    "duration": 7,
    "start_time": "2021-10-13T11:22:28.290Z"
   },
   {
    "duration": 7,
    "start_time": "2021-10-13T11:22:38.759Z"
   },
   {
    "duration": 7,
    "start_time": "2021-10-13T11:27:52.875Z"
   },
   {
    "duration": 7,
    "start_time": "2021-10-13T11:28:03.189Z"
   },
   {
    "duration": 7,
    "start_time": "2021-10-13T11:28:09.842Z"
   },
   {
    "duration": 6,
    "start_time": "2021-10-13T11:41:23.481Z"
   },
   {
    "duration": 4449,
    "start_time": "2021-10-13T11:41:23.490Z"
   },
   {
    "duration": 16,
    "start_time": "2021-10-13T11:41:27.942Z"
   },
   {
    "duration": 4607,
    "start_time": "2021-10-13T11:41:27.961Z"
   },
   {
    "duration": 6,
    "start_time": "2021-10-13T11:41:32.571Z"
   },
   {
    "duration": 20,
    "start_time": "2021-10-13T11:41:32.581Z"
   },
   {
    "duration": 17,
    "start_time": "2021-10-13T11:45:13.937Z"
   },
   {
    "duration": 6,
    "start_time": "2021-10-13T11:48:17.968Z"
   },
   {
    "duration": 7,
    "start_time": "2021-10-13T11:48:25.295Z"
   },
   {
    "duration": 8,
    "start_time": "2021-10-13T11:48:29.375Z"
   },
   {
    "duration": 7070,
    "start_time": "2021-10-13T12:00:38.109Z"
   },
   {
    "duration": 4424,
    "start_time": "2021-10-13T12:01:13.936Z"
   },
   {
    "duration": 5000,
    "start_time": "2021-10-13T12:02:48.411Z"
   },
   {
    "duration": 4535,
    "start_time": "2021-10-13T12:04:24.455Z"
   },
   {
    "duration": 4504,
    "start_time": "2021-10-13T12:04:41.997Z"
   },
   {
    "duration": 4815,
    "start_time": "2021-10-13T12:05:10.645Z"
   },
   {
    "duration": 4508,
    "start_time": "2021-10-13T12:05:19.700Z"
   },
   {
    "duration": 4783,
    "start_time": "2021-10-13T12:05:33.005Z"
   },
   {
    "duration": 47,
    "start_time": "2021-10-13T12:31:28.633Z"
   },
   {
    "duration": 18,
    "start_time": "2021-10-13T12:32:21.171Z"
   },
   {
    "duration": 45,
    "start_time": "2021-10-13T12:34:44.101Z"
   },
   {
    "duration": 43,
    "start_time": "2021-10-13T12:34:48.533Z"
   },
   {
    "duration": 755,
    "start_time": "2021-10-13T12:36:07.557Z"
   },
   {
    "duration": 47,
    "start_time": "2021-10-13T12:36:18.464Z"
   },
   {
    "duration": 96,
    "start_time": "2021-10-13T12:36:20.863Z"
   },
   {
    "duration": 115,
    "start_time": "2021-10-13T12:36:22.143Z"
   },
   {
    "duration": 12,
    "start_time": "2021-10-13T12:36:23.950Z"
   },
   {
    "duration": 1405,
    "start_time": "2021-10-13T15:11:29.839Z"
   },
   {
    "duration": 3,
    "start_time": "2021-10-13T15:11:31.246Z"
   },
   {
    "duration": 356,
    "start_time": "2021-10-13T15:11:31.250Z"
   },
   {
    "duration": 27,
    "start_time": "2021-10-13T15:11:31.607Z"
   },
   {
    "duration": 24,
    "start_time": "2021-10-13T15:11:31.644Z"
   },
   {
    "duration": 20,
    "start_time": "2021-10-13T15:11:31.670Z"
   },
   {
    "duration": 58039,
    "start_time": "2021-10-13T15:11:31.692Z"
   },
   {
    "duration": 46,
    "start_time": "2021-10-13T15:12:29.733Z"
   },
   {
    "duration": 37,
    "start_time": "2021-10-13T15:12:29.781Z"
   },
   {
    "duration": 53,
    "start_time": "2021-10-13T15:12:29.820Z"
   },
   {
    "duration": 11,
    "start_time": "2021-10-13T15:12:29.875Z"
   },
   {
    "duration": 7,
    "start_time": "2021-10-13T15:12:29.888Z"
   },
   {
    "duration": 4,
    "start_time": "2021-10-13T15:12:29.897Z"
   },
   {
    "duration": 4,
    "start_time": "2021-10-13T15:12:29.904Z"
   },
   {
    "duration": 134,
    "start_time": "2021-10-13T15:12:29.910Z"
   },
   {
    "duration": 126,
    "start_time": "2021-10-13T15:12:30.047Z"
   },
   {
    "duration": 191,
    "start_time": "2021-10-13T15:12:30.175Z"
   },
   {
    "duration": 78,
    "start_time": "2021-10-13T15:12:30.368Z"
   },
   {
    "duration": 101,
    "start_time": "2021-10-13T15:12:30.449Z"
   },
   {
    "duration": 16,
    "start_time": "2021-10-13T15:12:30.552Z"
   },
   {
    "duration": 15,
    "start_time": "2021-10-13T15:12:30.571Z"
   },
   {
    "duration": 4,
    "start_time": "2021-10-13T15:12:30.589Z"
   },
   {
    "duration": 23,
    "start_time": "2021-10-13T15:12:30.595Z"
   },
   {
    "duration": 4,
    "start_time": "2021-10-13T15:12:30.620Z"
   },
   {
    "duration": 2758,
    "start_time": "2021-10-13T15:12:30.626Z"
   },
   {
    "duration": 454,
    "start_time": "2021-10-13T15:12:33.386Z"
   },
   {
    "duration": -2780,
    "start_time": "2021-10-13T15:12:36.622Z"
   },
   {
    "duration": -2781,
    "start_time": "2021-10-13T15:12:36.624Z"
   },
   {
    "duration": -2781,
    "start_time": "2021-10-13T15:12:36.625Z"
   },
   {
    "duration": -2781,
    "start_time": "2021-10-13T15:12:36.626Z"
   },
   {
    "duration": -2866,
    "start_time": "2021-10-13T15:12:36.713Z"
   },
   {
    "duration": 5,
    "start_time": "2021-10-13T15:12:55.480Z"
   },
   {
    "duration": 2740,
    "start_time": "2021-10-13T15:13:04.264Z"
   },
   {
    "duration": 5,
    "start_time": "2021-10-13T15:13:07.006Z"
   },
   {
    "duration": 2606,
    "start_time": "2021-10-13T15:13:07.012Z"
   },
   {
    "duration": 4,
    "start_time": "2021-10-13T15:13:10.934Z"
   },
   {
    "duration": 10,
    "start_time": "2021-10-13T15:13:18.132Z"
   }
  ],
  "kernelspec": {
   "display_name": "Python 3",
   "language": "python",
   "name": "python3"
  },
  "language_info": {
   "codemirror_mode": {
    "name": "ipython",
    "version": 3
   },
   "file_extension": ".py",
   "mimetype": "text/x-python",
   "name": "python",
   "nbconvert_exporter": "python",
   "pygments_lexer": "ipython3",
   "version": "3.8.3"
  },
  "toc": {
   "base_numbering": 1,
   "nav_menu": {},
   "number_sections": true,
   "sideBar": true,
   "skip_h1_title": true,
   "title_cell": "Table of Contents",
   "title_sidebar": "Contents",
   "toc_cell": false,
   "toc_position": {},
   "toc_section_display": true,
   "toc_window_display": false
  }
 },
 "nbformat": 4,
 "nbformat_minor": 2
}
